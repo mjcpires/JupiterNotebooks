{
 "cells": [
  {
   "cell_type": "code",
   "execution_count": 1,
   "id": "335e1e04-de98-446d-a46a-bc64cd0731f9",
   "metadata": {},
   "outputs": [
    {
     "data": {
      "text/plain": [
       "4"
      ]
     },
     "execution_count": 1,
     "metadata": {},
     "output_type": "execute_result"
    }
   ],
   "source": [
    "2+2"
   ]
  },
  {
   "cell_type": "code",
   "execution_count": 2,
   "id": "33070096-a12f-497f-9e59-46e861bf2258",
   "metadata": {},
   "outputs": [
    {
     "data": {
      "text/plain": [
       "Type help() for interactive help, or help(object) for help about object."
      ]
     },
     "execution_count": 2,
     "metadata": {},
     "output_type": "execute_result"
    }
   ],
   "source": [
    "help"
   ]
  },
  {
   "cell_type": "code",
   "execution_count": 1,
   "id": "ca0b8df9-d48d-4c89-b365-c147f86cf645",
   "metadata": {},
   "outputs": [
    {
     "data": {
      "text/plain": [
       "<function help at 0x1296e20c0>"
      ]
     },
     "execution_count": 1,
     "metadata": {},
     "output_type": "execute_result"
    }
   ],
   "source": [
    "help\n"
   ]
  },
  {
   "cell_type": "code",
   "execution_count": 2,
   "id": "80b3c0cb-b1b6-4258-9f60-30e8de09f75b",
   "metadata": {},
   "outputs": [
    {
     "name": "stdout",
     "output_type": "stream",
     "text": [
      "Welcome to Sage 10.3!\n",
      "\n",
      "To view the Sage tutorial in your web browser, type \"tutorial()\", and\n",
      "to view the (very detailed) Sage reference manual, type \"manual()\".\n",
      "For help on any Sage function, for example \"matrix_plot\", type\n",
      "\"matrix_plot?\" to see a help message, type \"help(matrix_plot)\" to see\n",
      "a very similar message, type \"browse_sage_doc(matrix_plot)\" to view a\n",
      "help message in a web browser, and type \"matrix_plot??\" to look at the\n",
      "function's source code.\n",
      "\n",
      "(When you type something like \"matrix_plot?\", \"help(matrix_plot)\", or\n",
      "\"matrix_plot??\", Sage may start a paging program to display the\n",
      "requested message. Type a space to scroll to the next page, type \"h\"\n",
      "to get help on the paging program, and type \"q\" to quit it and return\n",
      "to the \"sage:\" prompt.)\n",
      "\n",
      "For license information for Sage and its components, read the file\n",
      "\"COPYING.txt\" in the top-level directory of the Sage installation,\n",
      "or type \"license()\".\n",
      "\n",
      "To enter Python's interactive online help utility, type \"python_help()\".\n",
      "To get help on a Python function, module or package, type \"help(MODULE)\" or\n",
      "\"python_help(MODULE)\".\n"
     ]
    }
   ],
   "source": [
    "help()"
   ]
  },
  {
   "cell_type": "code",
   "execution_count": 3,
   "id": "3cc5873c-98c0-48b8-9067-4d80a53b75bf",
   "metadata": {},
   "outputs": [],
   "source": [
    "tutorial()"
   ]
  },
  {
   "cell_type": "code",
   "execution_count": 4,
   "id": "051187f2-b6db-491b-812a-b7466f273599",
   "metadata": {},
   "outputs": [],
   "source": [
    "A = Matrix([[1,2,3],[3,2,1],[1,1,1]])"
   ]
  },
  {
   "cell_type": "code",
   "execution_count": 5,
   "id": "1b4ca98d-3fad-451e-842e-adf448ffbaa0",
   "metadata": {},
   "outputs": [
    {
     "data": {
      "text/plain": [
       "[1 2 3]\n",
       "[3 2 1]\n",
       "[1 1 1]"
      ]
     },
     "execution_count": 5,
     "metadata": {},
     "output_type": "execute_result"
    }
   ],
   "source": [
    "A"
   ]
  },
  {
   "cell_type": "code",
   "execution_count": 6,
   "id": "3aa7b8fc-a6aa-4952-9a5d-b9dc698a6bca",
   "metadata": {},
   "outputs": [],
   "source": [
    "w = vector([1,1,-4])\n"
   ]
  },
  {
   "cell_type": "code",
   "execution_count": 8,
   "id": "6eb871b2-9652-4671-b7d3-74fc9282342a",
   "metadata": {},
   "outputs": [
    {
     "data": {
      "text/plain": [
       "(-9, 1, -2)"
      ]
     },
     "execution_count": 8,
     "metadata": {},
     "output_type": "execute_result"
    }
   ],
   "source": [
    "A*w"
   ]
  },
  {
   "cell_type": "code",
   "execution_count": 9,
   "id": "6653eda3-a1ea-49a6-9657-965182ea740e",
   "metadata": {},
   "outputs": [],
   "source": [
    "x = var('x')"
   ]
  },
  {
   "cell_type": "code",
   "execution_count": 10,
   "id": "8b1a73ba-a14f-4773-8b95-3d8f2c636794",
   "metadata": {},
   "outputs": [
    {
     "data": {
      "text/plain": [
       "x"
      ]
     },
     "execution_count": 10,
     "metadata": {},
     "output_type": "execute_result"
    }
   ],
   "source": [
    "x"
   ]
  },
  {
   "cell_type": "code",
   "execution_count": null,
   "id": "2b66f279-d4cb-47b3-8336-881154dbd731",
   "metadata": {},
   "outputs": [],
   "source": []
  }
 ],
 "metadata": {
  "kernelspec": {
   "display_name": "SageMath 10.3",
   "language": "sage",
   "name": "sagemath-10.3"
  },
  "language_info": {
   "codemirror_mode": {
    "name": "ipython",
    "version": 3
   },
   "file_extension": ".py",
   "mimetype": "text/x-python",
   "name": "python",
   "nbconvert_exporter": "python",
   "pygments_lexer": "ipython3",
   "version": "3.11.8"
  }
 },
 "nbformat": 4,
 "nbformat_minor": 5
}
