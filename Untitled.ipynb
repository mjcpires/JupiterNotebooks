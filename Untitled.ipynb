{
 "cells": [
  {
   "cell_type": "code",
   "execution_count": 1,
   "id": "13ee3932-f105-407c-81af-3280d27ad9e7",
   "metadata": {},
   "outputs": [],
   "source": [
    "f=sqrt(x)"
   ]
  },
  {
   "cell_type": "code",
   "execution_count": 2,
   "id": "72f43b45-f470-46aa-8f0e-454fc8c50522",
   "metadata": {},
   "outputs": [
    {
     "data": {
      "text/plain": [
       "sqrt(x)"
      ]
     },
     "execution_count": 2,
     "metadata": {},
     "output_type": "execute_result"
    }
   ],
   "source": [
    "f"
   ]
  },
  {
   "cell_type": "code",
   "execution_count": 5,
   "id": "94472ed6-63c9-4251-8b97-c04eb307d765",
   "metadata": {},
   "outputs": [
    {
     "data": {
      "image/png": "[encoded data removed]",
      "text/plain": [
       "Graphics object consisting of 1 graphics primitive"
      ]
     },
     "execution_count": 5,
     "metadata": {},
     "output_type": "execute_result"
    }
   ],
   "source": [
    "plot(f,x, -10,10)"
   ]
  },
  {
   "cell_type": "code",
   "execution_count": 4,
   "id": "bfea8820-0fc5-4603-8b9c-c1d753881378",
   "metadata": {},
   "outputs": [],
   "source": [
    "f=x^2+2"
   ]
  },
  {
   "cell_type": "code",
   "execution_count": 6,
   "id": "1bd30ccd-e0ea-44a3-ba9a-9e8c0df664fb",
   "metadata": {},
   "outputs": [],
   "source": [
    "y=(-3)^5*4^(-5)"
   ]
  },
  {
   "cell_type": "code",
   "execution_count": 7,
   "id": "4527e441-8ffd-4f63-8e8f-6533089e4a16",
   "metadata": {},
   "outputs": [
    {
     "data": {
      "text/plain": [
       "-243/1024"
      ]
     },
     "execution_count": 7,
     "metadata": {},
     "output_type": "execute_result"
    }
   ],
   "source": [
    "y"
   ]
  },
  {
   "cell_type": "code",
   "execution_count": 16,
   "id": "a882c23a-1f7e-4fe2-a008-b047d98c710a",
   "metadata": {},
   "outputs": [],
   "source": [
    "a=latex(f)"
   ]
  },
  {
   "cell_type": "code",
   "execution_count": 9,
   "id": "c82bda1d-96bb-47cc-8260-6c04d268535b",
   "metadata": {},
   "outputs": [],
   "source": [
    "view(f)"
   ]
  },
  {
   "cell_type": "code",
   "execution_count": 18,
   "id": "0fec73ec-7bc8-41cf-8ab1-2372a2875035",
   "metadata": {},
   "outputs": [],
   "source": [
    "%display latex"
   ]
  },
  {
   "cell_type": "code",
   "execution_count": 15,
   "id": "2b0f5982-c4c4-426a-9b79-6fcef068daed",
   "metadata": {},
   "outputs": [
    {
     "data": {
      "text/plain": [
       "x^2 + 2"
      ]
     },
     "execution_count": 15,
     "metadata": {},
     "output_type": "execute_result"
    }
   ],
   "source": [
    "f"
   ]
  },
  {
   "cell_type": "code",
   "execution_count": 14,
   "id": "14ef363d-9bf7-432f-84db-b8f82572cf81",
   "metadata": {},
   "outputs": [
    {
     "data": {
      "text/plain": [
       "-243/1024"
      ]
     },
     "execution_count": 14,
     "metadata": {},
     "output_type": "execute_result"
    }
   ],
   "source": [
    "y"
   ]
  },
  {
   "cell_type": "code",
   "execution_count": 20,
   "id": "edd67e16-b314-4016-a99d-94e1d86114e9",
   "metadata": {},
   "outputs": [],
   "source": [
    "%display plain"
   ]
  },
  {
   "cell_type": "code",
   "execution_count": 17,
   "id": "a6f714ed-43e2-4c77-83e0-8a2f01cebd58",
   "metadata": {},
   "outputs": [
    {
     "data": {
      "text/plain": [
       "x^{2} + 2"
      ]
     },
     "execution_count": 17,
     "metadata": {},
     "output_type": "execute_result"
    }
   ],
   "source": [
    "a"
   ]
  },
  {
   "cell_type": "code",
   "execution_count": 19,
   "id": "8ffc9264-ff4f-4439-84de-492d3682e42b",
   "metadata": {},
   "outputs": [
    {
     "data": {
      "text/html": [
       "<html>\\(\\displaystyle x^{2} + 2\\)</html>"
      ],
      "text/latex": [
       "$\\displaystyle x^{2} + 2$"
      ],
      "text/plain": [
       "x^{2} + 2"
      ]
     },
     "execution_count": 19,
     "metadata": {},
     "output_type": "execute_result"
    }
   ],
   "source": [
    "a"
   ]
  },
  {
   "cell_type": "code",
   "execution_count": 21,
   "id": "a9082f27-d275-4702-88df-08336f6bd840",
   "metadata": {},
   "outputs": [
    {
     "ename": "TypeError",
     "evalue": "factor() missing 1 required positional argument: 'n'",
     "output_type": "error",
     "traceback": [
      "\u001b[0;31m---------------------------------------------------------------------------\u001b[0m",
      "\u001b[0;31mTypeError\u001b[0m                                 Traceback (most recent call last)",
      "Cell \u001b[0;32mIn[21], line 1\u001b[0m\n\u001b[0;32m----> 1\u001b[0m \u001b[43mfactor\u001b[49m\u001b[43m(\u001b[49m\u001b[43m)\u001b[49m\n",
      "\u001b[0;31mTypeError\u001b[0m: factor() missing 1 required positional argument: 'n'"
     ]
    }
   ],
   "source": [
    "factor()"
   ]
  },
  {
   "cell_type": "code",
   "execution_count": 22,
   "id": "e97a3953-9b41-4f7b-9932-5d52766e6317",
   "metadata": {},
   "outputs": [
    {
     "data": {
      "text/plain": [
       "x^2 + 4*x + 32"
      ]
     },
     "execution_count": 22,
     "metadata": {},
     "output_type": "execute_result"
    }
   ],
   "source": [
    "factor(x^2+4*x+32)"
   ]
  },
  {
   "cell_type": "code",
   "execution_count": null,
   "id": "f52429ea-0b0f-4e16-882b-1d1b8c2c946d",
   "metadata": {},
   "outputs": [],
   "source": []
  }
 ],
 "metadata": {
  "kernelspec": {
   "display_name": "SageMath 10.3",
   "language": "sage",
   "name": "sagemath-10.3"
  },
  "language_info": {
   "codemirror_mode": {
    "name": "ipython",
    "version": 3
   },
   "file_extension": ".py",
   "mimetype": "text/x-python",
   "name": "python",
   "nbconvert_exporter": "python",
   "pygments_lexer": "ipython3",
   "version": "3.11.8"
  }
 },
 "nbformat": 4,
 "nbformat_minor": 5
}
